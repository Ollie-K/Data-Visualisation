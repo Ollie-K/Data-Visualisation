{
 "cells": [
  {
   "cell_type": "code",
   "execution_count": 1,
   "metadata": {},
   "outputs": [],
   "source": [
    "import pandas as pd"
   ]
  },
  {
   "cell_type": "code",
   "execution_count": 2,
   "metadata": {},
   "outputs": [
    {
     "name": "stdout",
     "output_type": "stream",
     "text": [
      "(28711, 15)\n"
     ]
    }
   ],
   "source": [
    "yr = pd.read_csv('2020-01-metropolitan-stop-and-search.csv')\n",
    "print(yr.shape)"
   ]
  },
  {
   "cell_type": "markdown",
   "metadata": {},
   "source": [
    "Combining all csv files into a single dataframe"
   ]
  },
  {
   "cell_type": "code",
   "execution_count": 3,
   "metadata": {},
   "outputs": [
    {
     "data": {
      "text/plain": [
       "(317505, 15)"
      ]
     },
     "execution_count": 3,
     "metadata": {},
     "output_type": "execute_result"
    }
   ],
   "source": [
    "for i in range(2,10):\n",
    "    t = pd.read_csv('2020-0'+str(i)+'-metropolitan-stop-and-search.csv')\n",
    "    yr = yr.append(t)\n",
    "for i in range(10,13):\n",
    "    t = pd.read_csv('2020-'+str(i)+'-metropolitan-stop-and-search.csv')\n",
    "    yr = yr.append(t)\n",
    "yr.shape"
   ]
  },
  {
   "cell_type": "code",
   "execution_count": 4,
   "metadata": {},
   "outputs": [
    {
     "data": {
      "text/html": [
       "<div>\n",
       "<style scoped>\n",
       "    .dataframe tbody tr th:only-of-type {\n",
       "        vertical-align: middle;\n",
       "    }\n",
       "\n",
       "    .dataframe tbody tr th {\n",
       "        vertical-align: top;\n",
       "    }\n",
       "\n",
       "    .dataframe thead th {\n",
       "        text-align: right;\n",
       "    }\n",
       "</style>\n",
       "<table border=\"1\" class=\"dataframe\">\n",
       "  <thead>\n",
       "    <tr style=\"text-align: right;\">\n",
       "      <th></th>\n",
       "      <th>Type</th>\n",
       "      <th>Date</th>\n",
       "      <th>Part of a policing operation</th>\n",
       "      <th>Policing operation</th>\n",
       "      <th>Latitude</th>\n",
       "      <th>Longitude</th>\n",
       "      <th>Gender</th>\n",
       "      <th>Age range</th>\n",
       "      <th>Self-defined ethnicity</th>\n",
       "      <th>Officer-defined ethnicity</th>\n",
       "      <th>Legislation</th>\n",
       "      <th>Object of search</th>\n",
       "      <th>Outcome</th>\n",
       "      <th>Outcome linked to object of search</th>\n",
       "      <th>Removal of more than just outer clothing</th>\n",
       "    </tr>\n",
       "  </thead>\n",
       "  <tbody>\n",
       "    <tr>\n",
       "      <th>0</th>\n",
       "      <td>Person search</td>\n",
       "      <td>2020-01-01T00:00:00+00:00</td>\n",
       "      <td>False</td>\n",
       "      <td>NaN</td>\n",
       "      <td>51.546371</td>\n",
       "      <td>-0.076007</td>\n",
       "      <td>Male</td>\n",
       "      <td>25-34</td>\n",
       "      <td>Mixed/Multiple ethnic groups - Any other Mixed...</td>\n",
       "      <td>Black</td>\n",
       "      <td>Misuse of Drugs Act 1971 (section 23)</td>\n",
       "      <td>Controlled drugs</td>\n",
       "      <td>A no further action disposal</td>\n",
       "      <td>NaN</td>\n",
       "      <td>NaN</td>\n",
       "    </tr>\n",
       "    <tr>\n",
       "      <th>1</th>\n",
       "      <td>Person search</td>\n",
       "      <td>2020-01-01T00:01:00+00:00</td>\n",
       "      <td>False</td>\n",
       "      <td>NaN</td>\n",
       "      <td>51.509232</td>\n",
       "      <td>-0.117576</td>\n",
       "      <td>Male</td>\n",
       "      <td>18-24</td>\n",
       "      <td>Black/African/Caribbean/Black British - Any ot...</td>\n",
       "      <td>Black</td>\n",
       "      <td>Police and Criminal Evidence Act 1984 (section 1)</td>\n",
       "      <td>Fireworks</td>\n",
       "      <td>Arrest</td>\n",
       "      <td>NaN</td>\n",
       "      <td>NaN</td>\n",
       "    </tr>\n",
       "    <tr>\n",
       "      <th>2</th>\n",
       "      <td>Person search</td>\n",
       "      <td>2020-01-01T00:05:00+00:00</td>\n",
       "      <td>False</td>\n",
       "      <td>NaN</td>\n",
       "      <td>NaN</td>\n",
       "      <td>NaN</td>\n",
       "      <td>Male</td>\n",
       "      <td>18-24</td>\n",
       "      <td>White - English/Welsh/Scottish/Northern Irish/...</td>\n",
       "      <td>White</td>\n",
       "      <td>Police and Criminal Evidence Act 1984 (section 1)</td>\n",
       "      <td>Fireworks</td>\n",
       "      <td>Penalty Notice for Disorder</td>\n",
       "      <td>NaN</td>\n",
       "      <td>NaN</td>\n",
       "    </tr>\n",
       "    <tr>\n",
       "      <th>3</th>\n",
       "      <td>Person search</td>\n",
       "      <td>2020-01-01T00:05:00+00:00</td>\n",
       "      <td>False</td>\n",
       "      <td>NaN</td>\n",
       "      <td>NaN</td>\n",
       "      <td>NaN</td>\n",
       "      <td>Male</td>\n",
       "      <td>18-24</td>\n",
       "      <td>Black/African/Caribbean/Black British - Caribbean</td>\n",
       "      <td>Black</td>\n",
       "      <td>Misuse of Drugs Act 1971 (section 23)</td>\n",
       "      <td>Controlled drugs</td>\n",
       "      <td>A no further action disposal</td>\n",
       "      <td>NaN</td>\n",
       "      <td>NaN</td>\n",
       "    </tr>\n",
       "    <tr>\n",
       "      <th>4</th>\n",
       "      <td>Person search</td>\n",
       "      <td>2020-01-01T00:07:00+00:00</td>\n",
       "      <td>False</td>\n",
       "      <td>NaN</td>\n",
       "      <td>51.588914</td>\n",
       "      <td>-0.027220</td>\n",
       "      <td>Male</td>\n",
       "      <td>NaN</td>\n",
       "      <td>Other ethnic group - Not stated</td>\n",
       "      <td>Asian</td>\n",
       "      <td>Police and Criminal Evidence Act 1984 (section 1)</td>\n",
       "      <td>Fireworks</td>\n",
       "      <td>A no further action disposal</td>\n",
       "      <td>NaN</td>\n",
       "      <td>NaN</td>\n",
       "    </tr>\n",
       "  </tbody>\n",
       "</table>\n",
       "</div>"
      ],
      "text/plain": [
       "            Type                       Date  Part of a policing operation  \\\n",
       "0  Person search  2020-01-01T00:00:00+00:00                         False   \n",
       "1  Person search  2020-01-01T00:01:00+00:00                         False   \n",
       "2  Person search  2020-01-01T00:05:00+00:00                         False   \n",
       "3  Person search  2020-01-01T00:05:00+00:00                         False   \n",
       "4  Person search  2020-01-01T00:07:00+00:00                         False   \n",
       "\n",
       "   Policing operation   Latitude  Longitude Gender Age range  \\\n",
       "0                 NaN  51.546371  -0.076007   Male     25-34   \n",
       "1                 NaN  51.509232  -0.117576   Male     18-24   \n",
       "2                 NaN        NaN        NaN   Male     18-24   \n",
       "3                 NaN        NaN        NaN   Male     18-24   \n",
       "4                 NaN  51.588914  -0.027220   Male       NaN   \n",
       "\n",
       "                              Self-defined ethnicity  \\\n",
       "0  Mixed/Multiple ethnic groups - Any other Mixed...   \n",
       "1  Black/African/Caribbean/Black British - Any ot...   \n",
       "2  White - English/Welsh/Scottish/Northern Irish/...   \n",
       "3  Black/African/Caribbean/Black British - Caribbean   \n",
       "4                    Other ethnic group - Not stated   \n",
       "\n",
       "  Officer-defined ethnicity  \\\n",
       "0                     Black   \n",
       "1                     Black   \n",
       "2                     White   \n",
       "3                     Black   \n",
       "4                     Asian   \n",
       "\n",
       "                                         Legislation  Object of search  \\\n",
       "0              Misuse of Drugs Act 1971 (section 23)  Controlled drugs   \n",
       "1  Police and Criminal Evidence Act 1984 (section 1)         Fireworks   \n",
       "2  Police and Criminal Evidence Act 1984 (section 1)         Fireworks   \n",
       "3              Misuse of Drugs Act 1971 (section 23)  Controlled drugs   \n",
       "4  Police and Criminal Evidence Act 1984 (section 1)         Fireworks   \n",
       "\n",
       "                        Outcome  Outcome linked to object of search  \\\n",
       "0  A no further action disposal                                 NaN   \n",
       "1                        Arrest                                 NaN   \n",
       "2   Penalty Notice for Disorder                                 NaN   \n",
       "3  A no further action disposal                                 NaN   \n",
       "4  A no further action disposal                                 NaN   \n",
       "\n",
       "   Removal of more than just outer clothing  \n",
       "0                                       NaN  \n",
       "1                                       NaN  \n",
       "2                                       NaN  \n",
       "3                                       NaN  \n",
       "4                                       NaN  "
      ]
     },
     "execution_count": 4,
     "metadata": {},
     "output_type": "execute_result"
    }
   ],
   "source": [
    "yr.head()"
   ]
  },
  {
   "cell_type": "code",
   "execution_count": 5,
   "metadata": {},
   "outputs": [
    {
     "data": {
      "text/plain": [
       "Index(['Type', 'Date', 'Part of a policing operation', 'Policing operation',\n",
       "       'Latitude', 'Longitude', 'Gender', 'Age range',\n",
       "       'Self-defined ethnicity', 'Officer-defined ethnicity', 'Legislation',\n",
       "       'Object of search', 'Outcome', 'Outcome linked to object of search',\n",
       "       'Removal of more than just outer clothing'],\n",
       "      dtype='object')"
      ]
     },
     "execution_count": 5,
     "metadata": {},
     "output_type": "execute_result"
    }
   ],
   "source": [
    "yr.columns"
   ]
  },
  {
   "cell_type": "markdown",
   "metadata": {},
   "source": [
    "Dropping columns that are not of use for this work"
   ]
  },
  {
   "cell_type": "code",
   "execution_count": 6,
   "metadata": {},
   "outputs": [],
   "source": [
    "yr = yr.drop(['Type', 'Date', 'Part of a policing operation', 'Policing operation', 'Latitude', 'Longitude', 'Legislation', 'Removal of more than just outer clothing'], axis=1)"
   ]
  },
  {
   "cell_type": "code",
   "execution_count": 7,
   "metadata": {},
   "outputs": [],
   "source": [
    "yr = yr.drop(['Gender', 'Self-defined ethnicity', 'Outcome linked to object of search'], axis=1)"
   ]
  },
  {
   "cell_type": "code",
   "execution_count": 8,
   "metadata": {},
   "outputs": [
    {
     "data": {
      "text/html": [
       "<div>\n",
       "<style scoped>\n",
       "    .dataframe tbody tr th:only-of-type {\n",
       "        vertical-align: middle;\n",
       "    }\n",
       "\n",
       "    .dataframe tbody tr th {\n",
       "        vertical-align: top;\n",
       "    }\n",
       "\n",
       "    .dataframe thead th {\n",
       "        text-align: right;\n",
       "    }\n",
       "</style>\n",
       "<table border=\"1\" class=\"dataframe\">\n",
       "  <thead>\n",
       "    <tr style=\"text-align: right;\">\n",
       "      <th></th>\n",
       "      <th>Age range</th>\n",
       "      <th>Officer-defined ethnicity</th>\n",
       "      <th>Object of search</th>\n",
       "      <th>Outcome</th>\n",
       "    </tr>\n",
       "  </thead>\n",
       "  <tbody>\n",
       "    <tr>\n",
       "      <th>0</th>\n",
       "      <td>25-34</td>\n",
       "      <td>Black</td>\n",
       "      <td>Controlled drugs</td>\n",
       "      <td>A no further action disposal</td>\n",
       "    </tr>\n",
       "    <tr>\n",
       "      <th>1</th>\n",
       "      <td>18-24</td>\n",
       "      <td>Black</td>\n",
       "      <td>Fireworks</td>\n",
       "      <td>Arrest</td>\n",
       "    </tr>\n",
       "    <tr>\n",
       "      <th>2</th>\n",
       "      <td>18-24</td>\n",
       "      <td>White</td>\n",
       "      <td>Fireworks</td>\n",
       "      <td>Penalty Notice for Disorder</td>\n",
       "    </tr>\n",
       "    <tr>\n",
       "      <th>3</th>\n",
       "      <td>18-24</td>\n",
       "      <td>Black</td>\n",
       "      <td>Controlled drugs</td>\n",
       "      <td>A no further action disposal</td>\n",
       "    </tr>\n",
       "    <tr>\n",
       "      <th>4</th>\n",
       "      <td>NaN</td>\n",
       "      <td>Asian</td>\n",
       "      <td>Fireworks</td>\n",
       "      <td>A no further action disposal</td>\n",
       "    </tr>\n",
       "  </tbody>\n",
       "</table>\n",
       "</div>"
      ],
      "text/plain": [
       "  Age range Officer-defined ethnicity  Object of search  \\\n",
       "0     25-34                     Black  Controlled drugs   \n",
       "1     18-24                     Black         Fireworks   \n",
       "2     18-24                     White         Fireworks   \n",
       "3     18-24                     Black  Controlled drugs   \n",
       "4       NaN                     Asian         Fireworks   \n",
       "\n",
       "                        Outcome  \n",
       "0  A no further action disposal  \n",
       "1                        Arrest  \n",
       "2   Penalty Notice for Disorder  \n",
       "3  A no further action disposal  \n",
       "4  A no further action disposal  "
      ]
     },
     "execution_count": 8,
     "metadata": {},
     "output_type": "execute_result"
    }
   ],
   "source": [
    "yr.head()"
   ]
  },
  {
   "cell_type": "code",
   "execution_count": 9,
   "metadata": {},
   "outputs": [
    {
     "data": {
      "text/plain": [
       "18-24       109238\n",
       "25-34        69735\n",
       "over 34      50592\n",
       "10-17        49475\n",
       "under 10        74\n",
       "Name: Age range, dtype: int64"
      ]
     },
     "execution_count": 9,
     "metadata": {},
     "output_type": "execute_result"
    }
   ],
   "source": [
    "yr['Age range'].value_counts()"
   ]
  },
  {
   "cell_type": "markdown",
   "metadata": {},
   "source": [
    "Export full year's data into a single csv"
   ]
  },
  {
   "cell_type": "code",
   "execution_count": 10,
   "metadata": {},
   "outputs": [],
   "source": [
    "yr.to_csv('searches_2020.csv')"
   ]
  },
  {
   "cell_type": "code",
   "execution_count": 11,
   "metadata": {},
   "outputs": [],
   "source": [
    "yr['count'] = 1"
   ]
  },
  {
   "cell_type": "markdown",
   "metadata": {},
   "source": [
    "Tidying data"
   ]
  },
  {
   "cell_type": "code",
   "execution_count": 12,
   "metadata": {},
   "outputs": [
    {
     "data": {
      "text/html": [
       "<div>\n",
       "<style scoped>\n",
       "    .dataframe tbody tr th:only-of-type {\n",
       "        vertical-align: middle;\n",
       "    }\n",
       "\n",
       "    .dataframe tbody tr th {\n",
       "        vertical-align: top;\n",
       "    }\n",
       "\n",
       "    .dataframe thead th {\n",
       "        text-align: right;\n",
       "    }\n",
       "</style>\n",
       "<table border=\"1\" class=\"dataframe\">\n",
       "  <thead>\n",
       "    <tr style=\"text-align: right;\">\n",
       "      <th></th>\n",
       "      <th></th>\n",
       "      <th></th>\n",
       "      <th></th>\n",
       "      <th>count</th>\n",
       "    </tr>\n",
       "    <tr>\n",
       "      <th>Officer-defined ethnicity</th>\n",
       "      <th>Age range</th>\n",
       "      <th>Object of search</th>\n",
       "      <th>Outcome</th>\n",
       "      <th></th>\n",
       "    </tr>\n",
       "  </thead>\n",
       "  <tbody>\n",
       "    <tr>\n",
       "      <th rowspan=\"20\" valign=\"top\">Asian</th>\n",
       "      <th rowspan=\"20\" valign=\"top\">10-17</th>\n",
       "      <th rowspan=\"3\" valign=\"top\">Anything to threaten or harm anyone</th>\n",
       "      <th>A no further action disposal</th>\n",
       "      <td>140</td>\n",
       "    </tr>\n",
       "    <tr>\n",
       "      <th>Arrest</th>\n",
       "      <td>7</td>\n",
       "    </tr>\n",
       "    <tr>\n",
       "      <th>Community resolution</th>\n",
       "      <td>1</td>\n",
       "    </tr>\n",
       "    <tr>\n",
       "      <th rowspan=\"3\" valign=\"top\">Articles for use in criminal damage</th>\n",
       "      <th>A no further action disposal</th>\n",
       "      <td>24</td>\n",
       "    </tr>\n",
       "    <tr>\n",
       "      <th>Arrest</th>\n",
       "      <td>1</td>\n",
       "    </tr>\n",
       "    <tr>\n",
       "      <th>Community resolution</th>\n",
       "      <td>2</td>\n",
       "    </tr>\n",
       "    <tr>\n",
       "      <th rowspan=\"6\" valign=\"top\">Controlled drugs</th>\n",
       "      <th>A no further action disposal</th>\n",
       "      <td>3147</td>\n",
       "    </tr>\n",
       "    <tr>\n",
       "      <th>Arrest</th>\n",
       "      <td>282</td>\n",
       "    </tr>\n",
       "    <tr>\n",
       "      <th>Caution (simple or conditional)</th>\n",
       "      <td>9</td>\n",
       "    </tr>\n",
       "    <tr>\n",
       "      <th>Community resolution</th>\n",
       "      <td>97</td>\n",
       "    </tr>\n",
       "    <tr>\n",
       "      <th>Penalty Notice for Disorder</th>\n",
       "      <td>12</td>\n",
       "    </tr>\n",
       "    <tr>\n",
       "      <th>Summons / charged by post</th>\n",
       "      <td>63</td>\n",
       "    </tr>\n",
       "    <tr>\n",
       "      <th rowspan=\"5\" valign=\"top\">Evidence of offences under the Act</th>\n",
       "      <th>A no further action disposal</th>\n",
       "      <td>209</td>\n",
       "    </tr>\n",
       "    <tr>\n",
       "      <th>Arrest</th>\n",
       "      <td>42</td>\n",
       "    </tr>\n",
       "    <tr>\n",
       "      <th>Community resolution</th>\n",
       "      <td>4</td>\n",
       "    </tr>\n",
       "    <tr>\n",
       "      <th>Penalty Notice for Disorder</th>\n",
       "      <td>1</td>\n",
       "    </tr>\n",
       "    <tr>\n",
       "      <th>Summons / charged by post</th>\n",
       "      <td>1</td>\n",
       "    </tr>\n",
       "    <tr>\n",
       "      <th rowspan=\"2\" valign=\"top\">Firearms</th>\n",
       "      <th>A no further action disposal</th>\n",
       "      <td>16</td>\n",
       "    </tr>\n",
       "    <tr>\n",
       "      <th>Arrest</th>\n",
       "      <td>8</td>\n",
       "    </tr>\n",
       "    <tr>\n",
       "      <th>Fireworks</th>\n",
       "      <th>A no further action disposal</th>\n",
       "      <td>68</td>\n",
       "    </tr>\n",
       "  </tbody>\n",
       "</table>\n",
       "</div>"
      ],
      "text/plain": [
       "                                                                                                         count\n",
       "Officer-defined ethnicity Age range Object of search                    Outcome                               \n",
       "Asian                     10-17     Anything to threaten or harm anyone A no further action disposal       140\n",
       "                                                                        Arrest                               7\n",
       "                                                                        Community resolution                 1\n",
       "                                    Articles for use in criminal damage A no further action disposal        24\n",
       "                                                                        Arrest                               1\n",
       "                                                                        Community resolution                 2\n",
       "                                    Controlled drugs                    A no further action disposal      3147\n",
       "                                                                        Arrest                             282\n",
       "                                                                        Caution (simple or conditional)      9\n",
       "                                                                        Community resolution                97\n",
       "                                                                        Penalty Notice for Disorder         12\n",
       "                                                                        Summons / charged by post           63\n",
       "                                    Evidence of offences under the Act  A no further action disposal       209\n",
       "                                                                        Arrest                              42\n",
       "                                                                        Community resolution                 4\n",
       "                                                                        Penalty Notice for Disorder          1\n",
       "                                                                        Summons / charged by post            1\n",
       "                                    Firearms                            A no further action disposal        16\n",
       "                                                                        Arrest                               8\n",
       "                                    Fireworks                           A no further action disposal        68"
      ]
     },
     "execution_count": 12,
     "metadata": {},
     "output_type": "execute_result"
    }
   ],
   "source": [
    "summary = yr.groupby(['Officer-defined ethnicity', 'Age range', 'Object of search', 'Outcome'], dropna=True).count()\n",
    "summary.head(20)"
   ]
  },
  {
   "cell_type": "code",
   "execution_count": 13,
   "metadata": {},
   "outputs": [
    {
     "data": {
      "text/plain": [
       "(598, 1)"
      ]
     },
     "execution_count": 13,
     "metadata": {},
     "output_type": "execute_result"
    }
   ],
   "source": [
    "summary.shape"
   ]
  },
  {
   "cell_type": "markdown",
   "metadata": {},
   "source": [
    "Exporting summary csv file"
   ]
  },
  {
   "cell_type": "code",
   "execution_count": 14,
   "metadata": {},
   "outputs": [],
   "source": [
    "summary.to_csv('summary.csv')"
   ]
  },
  {
   "cell_type": "markdown",
   "metadata": {},
   "source": [
    "Producing smaller table for searches by age & ethnicity"
   ]
  },
  {
   "cell_type": "code",
   "execution_count": 15,
   "metadata": {},
   "outputs": [
    {
     "data": {
      "text/html": [
       "<div>\n",
       "<style scoped>\n",
       "    .dataframe tbody tr th:only-of-type {\n",
       "        vertical-align: middle;\n",
       "    }\n",
       "\n",
       "    .dataframe tbody tr th {\n",
       "        vertical-align: top;\n",
       "    }\n",
       "\n",
       "    .dataframe thead th {\n",
       "        text-align: right;\n",
       "    }\n",
       "</style>\n",
       "<table border=\"1\" class=\"dataframe\">\n",
       "  <thead>\n",
       "    <tr style=\"text-align: right;\">\n",
       "      <th></th>\n",
       "      <th></th>\n",
       "      <th>count</th>\n",
       "    </tr>\n",
       "    <tr>\n",
       "      <th>Officer-defined ethnicity</th>\n",
       "      <th>Age range</th>\n",
       "      <th></th>\n",
       "    </tr>\n",
       "  </thead>\n",
       "  <tbody>\n",
       "    <tr>\n",
       "      <th rowspan=\"5\" valign=\"top\">Asian</th>\n",
       "      <th>10-17</th>\n",
       "      <td>6244</td>\n",
       "    </tr>\n",
       "    <tr>\n",
       "      <th>18-24</th>\n",
       "      <td>23927</td>\n",
       "    </tr>\n",
       "    <tr>\n",
       "      <th>25-34</th>\n",
       "      <td>13421</td>\n",
       "    </tr>\n",
       "    <tr>\n",
       "      <th>over 34</th>\n",
       "      <td>6386</td>\n",
       "    </tr>\n",
       "    <tr>\n",
       "      <th>under 10</th>\n",
       "      <td>15</td>\n",
       "    </tr>\n",
       "    <tr>\n",
       "      <th rowspan=\"5\" valign=\"top\">Black</th>\n",
       "      <th>10-17</th>\n",
       "      <td>21554</td>\n",
       "    </tr>\n",
       "    <tr>\n",
       "      <th>18-24</th>\n",
       "      <td>41788</td>\n",
       "    </tr>\n",
       "    <tr>\n",
       "      <th>25-34</th>\n",
       "      <td>22899</td>\n",
       "    </tr>\n",
       "    <tr>\n",
       "      <th>over 34</th>\n",
       "      <td>14819</td>\n",
       "    </tr>\n",
       "    <tr>\n",
       "      <th>under 10</th>\n",
       "      <td>18</td>\n",
       "    </tr>\n",
       "    <tr>\n",
       "      <th rowspan=\"5\" valign=\"top\">Other</th>\n",
       "      <th>10-17</th>\n",
       "      <td>2161</td>\n",
       "    </tr>\n",
       "    <tr>\n",
       "      <th>18-24</th>\n",
       "      <td>6223</td>\n",
       "    </tr>\n",
       "    <tr>\n",
       "      <th>25-34</th>\n",
       "      <td>3215</td>\n",
       "    </tr>\n",
       "    <tr>\n",
       "      <th>over 34</th>\n",
       "      <td>1483</td>\n",
       "    </tr>\n",
       "    <tr>\n",
       "      <th>under 10</th>\n",
       "      <td>9</td>\n",
       "    </tr>\n",
       "    <tr>\n",
       "      <th rowspan=\"5\" valign=\"top\">White</th>\n",
       "      <th>10-17</th>\n",
       "      <td>19079</td>\n",
       "    </tr>\n",
       "    <tr>\n",
       "      <th>18-24</th>\n",
       "      <td>36382</td>\n",
       "    </tr>\n",
       "    <tr>\n",
       "      <th>25-34</th>\n",
       "      <td>29642</td>\n",
       "    </tr>\n",
       "    <tr>\n",
       "      <th>over 34</th>\n",
       "      <td>27555</td>\n",
       "    </tr>\n",
       "    <tr>\n",
       "      <th>under 10</th>\n",
       "      <td>26</td>\n",
       "    </tr>\n",
       "  </tbody>\n",
       "</table>\n",
       "</div>"
      ],
      "text/plain": [
       "                                     count\n",
       "Officer-defined ethnicity Age range       \n",
       "Asian                     10-17       6244\n",
       "                          18-24      23927\n",
       "                          25-34      13421\n",
       "                          over 34     6386\n",
       "                          under 10      15\n",
       "Black                     10-17      21554\n",
       "                          18-24      41788\n",
       "                          25-34      22899\n",
       "                          over 34    14819\n",
       "                          under 10      18\n",
       "Other                     10-17       2161\n",
       "                          18-24       6223\n",
       "                          25-34       3215\n",
       "                          over 34     1483\n",
       "                          under 10       9\n",
       "White                     10-17      19079\n",
       "                          18-24      36382\n",
       "                          25-34      29642\n",
       "                          over 34    27555\n",
       "                          under 10      26"
      ]
     },
     "execution_count": 15,
     "metadata": {},
     "output_type": "execute_result"
    }
   ],
   "source": [
    "race_age_sum = yr.groupby(['Officer-defined ethnicity', 'Age range'], dropna=True).count()\n",
    "race_age_sum = race_age_sum.drop([\"Object of search\", \"Outcome\"], axis=1)\n",
    "race_age_sum.head(20)"
   ]
  },
  {
   "cell_type": "markdown",
   "metadata": {},
   "source": [
    "Importing population data"
   ]
  },
  {
   "cell_type": "code",
   "execution_count": 16,
   "metadata": {},
   "outputs": [],
   "source": [
    "pop = pd.read_excel('Ethnic group projections (2016-based central trend)-2.xlsx', sheet_name=3)"
   ]
  },
  {
   "cell_type": "code",
   "execution_count": 17,
   "metadata": {},
   "outputs": [
    {
     "data": {
      "text/html": [
       "<div>\n",
       "<style scoped>\n",
       "    .dataframe tbody tr th:only-of-type {\n",
       "        vertical-align: middle;\n",
       "    }\n",
       "\n",
       "    .dataframe tbody tr th {\n",
       "        vertical-align: top;\n",
       "    }\n",
       "\n",
       "    .dataframe thead th {\n",
       "        text-align: right;\n",
       "    }\n",
       "</style>\n",
       "<table border=\"1\" class=\"dataframe\">\n",
       "  <thead>\n",
       "    <tr style=\"text-align: right;\">\n",
       "      <th></th>\n",
       "      <th>gss_code</th>\n",
       "      <th>borough</th>\n",
       "      <th>sex</th>\n",
       "      <th>age</th>\n",
       "      <th>ethnic_group</th>\n",
       "      <th>2011</th>\n",
       "      <th>2012</th>\n",
       "      <th>2013</th>\n",
       "      <th>2014</th>\n",
       "      <th>2015</th>\n",
       "      <th>...</th>\n",
       "      <th>2041</th>\n",
       "      <th>2042</th>\n",
       "      <th>2043</th>\n",
       "      <th>2044</th>\n",
       "      <th>2045</th>\n",
       "      <th>2046</th>\n",
       "      <th>2047</th>\n",
       "      <th>2048</th>\n",
       "      <th>2049</th>\n",
       "      <th>2050</th>\n",
       "    </tr>\n",
       "  </thead>\n",
       "  <tbody>\n",
       "    <tr>\n",
       "      <th>0</th>\n",
       "      <td>E09000001</td>\n",
       "      <td>City of London</td>\n",
       "      <td>Persons</td>\n",
       "      <td>0</td>\n",
       "      <td>All persons</td>\n",
       "      <td>69</td>\n",
       "      <td>72</td>\n",
       "      <td>67</td>\n",
       "      <td>66</td>\n",
       "      <td>63</td>\n",
       "      <td>...</td>\n",
       "      <td>61</td>\n",
       "      <td>61</td>\n",
       "      <td>62</td>\n",
       "      <td>62</td>\n",
       "      <td>62</td>\n",
       "      <td>62</td>\n",
       "      <td>62</td>\n",
       "      <td>62</td>\n",
       "      <td>62</td>\n",
       "      <td>62</td>\n",
       "    </tr>\n",
       "    <tr>\n",
       "      <th>1</th>\n",
       "      <td>E09000001</td>\n",
       "      <td>City of London</td>\n",
       "      <td>Persons</td>\n",
       "      <td>1</td>\n",
       "      <td>All persons</td>\n",
       "      <td>52</td>\n",
       "      <td>69</td>\n",
       "      <td>63</td>\n",
       "      <td>65</td>\n",
       "      <td>65</td>\n",
       "      <td>...</td>\n",
       "      <td>54</td>\n",
       "      <td>54</td>\n",
       "      <td>55</td>\n",
       "      <td>55</td>\n",
       "      <td>55</td>\n",
       "      <td>55</td>\n",
       "      <td>55</td>\n",
       "      <td>55</td>\n",
       "      <td>55</td>\n",
       "      <td>55</td>\n",
       "    </tr>\n",
       "    <tr>\n",
       "      <th>2</th>\n",
       "      <td>E09000001</td>\n",
       "      <td>City of London</td>\n",
       "      <td>Persons</td>\n",
       "      <td>2</td>\n",
       "      <td>All persons</td>\n",
       "      <td>37</td>\n",
       "      <td>56</td>\n",
       "      <td>69</td>\n",
       "      <td>71</td>\n",
       "      <td>78</td>\n",
       "      <td>...</td>\n",
       "      <td>49</td>\n",
       "      <td>49</td>\n",
       "      <td>49</td>\n",
       "      <td>49</td>\n",
       "      <td>50</td>\n",
       "      <td>50</td>\n",
       "      <td>50</td>\n",
       "      <td>50</td>\n",
       "      <td>50</td>\n",
       "      <td>50</td>\n",
       "    </tr>\n",
       "    <tr>\n",
       "      <th>3</th>\n",
       "      <td>E09000001</td>\n",
       "      <td>City of London</td>\n",
       "      <td>Persons</td>\n",
       "      <td>3</td>\n",
       "      <td>All persons</td>\n",
       "      <td>41</td>\n",
       "      <td>45</td>\n",
       "      <td>55</td>\n",
       "      <td>75</td>\n",
       "      <td>79</td>\n",
       "      <td>...</td>\n",
       "      <td>50</td>\n",
       "      <td>50</td>\n",
       "      <td>50</td>\n",
       "      <td>50</td>\n",
       "      <td>51</td>\n",
       "      <td>51</td>\n",
       "      <td>51</td>\n",
       "      <td>51</td>\n",
       "      <td>51</td>\n",
       "      <td>51</td>\n",
       "    </tr>\n",
       "    <tr>\n",
       "      <th>4</th>\n",
       "      <td>E09000001</td>\n",
       "      <td>City of London</td>\n",
       "      <td>Persons</td>\n",
       "      <td>4</td>\n",
       "      <td>All persons</td>\n",
       "      <td>34</td>\n",
       "      <td>42</td>\n",
       "      <td>42</td>\n",
       "      <td>55</td>\n",
       "      <td>83</td>\n",
       "      <td>...</td>\n",
       "      <td>51</td>\n",
       "      <td>51</td>\n",
       "      <td>51</td>\n",
       "      <td>51</td>\n",
       "      <td>51</td>\n",
       "      <td>51</td>\n",
       "      <td>51</td>\n",
       "      <td>52</td>\n",
       "      <td>52</td>\n",
       "      <td>52</td>\n",
       "    </tr>\n",
       "  </tbody>\n",
       "</table>\n",
       "<p>5 rows × 45 columns</p>\n",
       "</div>"
      ],
      "text/plain": [
       "    gss_code         borough      sex age ethnic_group  2011  2012  2013  \\\n",
       "0  E09000001  City of London  Persons   0  All persons    69    72    67   \n",
       "1  E09000001  City of London  Persons   1  All persons    52    69    63   \n",
       "2  E09000001  City of London  Persons   2  All persons    37    56    69   \n",
       "3  E09000001  City of London  Persons   3  All persons    41    45    55   \n",
       "4  E09000001  City of London  Persons   4  All persons    34    42    42   \n",
       "\n",
       "   2014  2015  ...  2041  2042  2043  2044  2045  2046  2047  2048  2049  2050  \n",
       "0    66    63  ...    61    61    62    62    62    62    62    62    62    62  \n",
       "1    65    65  ...    54    54    55    55    55    55    55    55    55    55  \n",
       "2    71    78  ...    49    49    49    49    50    50    50    50    50    50  \n",
       "3    75    79  ...    50    50    50    50    51    51    51    51    51    51  \n",
       "4    55    83  ...    51    51    51    51    51    51    51    52    52    52  \n",
       "\n",
       "[5 rows x 45 columns]"
      ]
     },
     "execution_count": 17,
     "metadata": {},
     "output_type": "execute_result"
    }
   ],
   "source": [
    "pop.head()"
   ]
  },
  {
   "cell_type": "markdown",
   "metadata": {},
   "source": [
    "Combining ethnicity sub-categories into wider categories used for officer-defined ethnicity (e.g. Black African --> Black)."
   ]
  },
  {
   "cell_type": "code",
   "execution_count": 18,
   "metadata": {},
   "outputs": [
    {
     "name": "stderr",
     "output_type": "stream",
     "text": [
      "<ipython-input-18-1ea34e7409b2>:1: SettingWithCopyWarning: \n",
      "A value is trying to be set on a copy of a slice from a DataFrame\n",
      "\n",
      "See the caveats in the documentation: https://pandas.pydata.org/pandas-docs/stable/user_guide/indexing.html#returning-a-view-versus-a-copy\n",
      "  pop['ethnic_group'][(pop['ethnic_group'] == 'White British') |(pop['ethnic_group'] ==  'White Irish' )|(pop['ethnic_group'] ==  'Other White')] = 'white'\n"
     ]
    }
   ],
   "source": [
    "pop['ethnic_group'][(pop['ethnic_group'] == 'White British') |(pop['ethnic_group'] ==  'White Irish' )|(pop['ethnic_group'] ==  'Other White')] = 'white'"
   ]
  },
  {
   "cell_type": "code",
   "execution_count": 19,
   "metadata": {},
   "outputs": [
    {
     "name": "stderr",
     "output_type": "stream",
     "text": [
      "<ipython-input-19-cfd4a8dd1c7a>:1: SettingWithCopyWarning: \n",
      "A value is trying to be set on a copy of a slice from a DataFrame\n",
      "\n",
      "See the caveats in the documentation: https://pandas.pydata.org/pandas-docs/stable/user_guide/indexing.html#returning-a-view-versus-a-copy\n",
      "  pop['ethnic_group'][(pop['ethnic_group'] == 'Black African') |(pop['ethnic_group'] ==  'Black Caribbean' )|(pop['ethnic_group'] ==  'Other Black')] = 'black'\n"
     ]
    }
   ],
   "source": [
    "pop['ethnic_group'][(pop['ethnic_group'] == 'Black African') |(pop['ethnic_group'] ==  'Black Caribbean' )|(pop['ethnic_group'] ==  'Other Black')] = 'black'"
   ]
  },
  {
   "cell_type": "code",
   "execution_count": 20,
   "metadata": {},
   "outputs": [
    {
     "name": "stderr",
     "output_type": "stream",
     "text": [
      "<ipython-input-20-84e6d9c9f8ba>:1: SettingWithCopyWarning: \n",
      "A value is trying to be set on a copy of a slice from a DataFrame\n",
      "\n",
      "See the caveats in the documentation: https://pandas.pydata.org/pandas-docs/stable/user_guide/indexing.html#returning-a-view-versus-a-copy\n",
      "  pop['ethnic_group'][(pop['ethnic_group'] == 'Indian') |(pop['ethnic_group'] ==  'Pakistani' )|(pop['ethnic_group'] ==  'Bangladeshi')|(pop['ethnic_group'] ==  'Pakistani' )|(pop['ethnic_group'] ==  'Chinese')|(pop['ethnic_group'] ==  'Pakistani' )|(pop['ethnic_group'] ==  'Other Asian')] = 'asian'\n"
     ]
    }
   ],
   "source": [
    "pop['ethnic_group'][(pop['ethnic_group'] == 'Indian') |(pop['ethnic_group'] ==  'Pakistani' )|(pop['ethnic_group'] ==  'Bangladeshi')|(pop['ethnic_group'] ==  'Pakistani' )|(pop['ethnic_group'] ==  'Chinese')|(pop['ethnic_group'] ==  'Pakistani' )|(pop['ethnic_group'] ==  'Other Asian')] = 'asian'"
   ]
  },
  {
   "cell_type": "code",
   "execution_count": 21,
   "metadata": {},
   "outputs": [
    {
     "name": "stderr",
     "output_type": "stream",
     "text": [
      "<ipython-input-21-c9fca6e16be3>:1: SettingWithCopyWarning: \n",
      "A value is trying to be set on a copy of a slice from a DataFrame\n",
      "\n",
      "See the caveats in the documentation: https://pandas.pydata.org/pandas-docs/stable/user_guide/indexing.html#returning-a-view-versus-a-copy\n",
      "  pop['ethnic_group'][(pop['ethnic_group'] == 'Arab') |(pop['ethnic_group'] ==  'Other Ethnic Group' )] = 'other'\n"
     ]
    }
   ],
   "source": [
    "pop['ethnic_group'][(pop['ethnic_group'] == 'Arab') |(pop['ethnic_group'] ==  'Other Ethnic Group' )] = 'other'"
   ]
  },
  {
   "cell_type": "code",
   "execution_count": 22,
   "metadata": {},
   "outputs": [
    {
     "data": {
      "text/plain": [
       "array(['All persons', 'white', 'White & Black Caribbean',\n",
       "       'White & Black African', 'White & Asian', 'Other Mixed', 'asian',\n",
       "       'black', 'other', 'BAME'], dtype=object)"
      ]
     },
     "execution_count": 22,
     "metadata": {},
     "output_type": "execute_result"
    }
   ],
   "source": [
    "pop['ethnic_group'].unique()"
   ]
  },
  {
   "cell_type": "markdown",
   "metadata": {},
   "source": [
    "'Mixed' Ethnicities will be dropped, as it is not possible to categorise them into the categories used for Officer-Defined Ethnicity."
   ]
  },
  {
   "cell_type": "code",
   "execution_count": 23,
   "metadata": {},
   "outputs": [],
   "source": [
    "pop = pop[(pop['ethnic_group'] == 'white')|(pop['ethnic_group'] == 'black')|(pop['ethnic_group'] == 'asian')|(pop['ethnic_group'] == 'other')]"
   ]
  },
  {
   "cell_type": "code",
   "execution_count": 24,
   "metadata": {},
   "outputs": [
    {
     "data": {
      "text/plain": [
       "array(['white', 'asian', 'black', 'other'], dtype=object)"
      ]
     },
     "execution_count": 24,
     "metadata": {},
     "output_type": "execute_result"
    }
   ],
   "source": [
    "pop['ethnic_group'].unique()"
   ]
  },
  {
   "cell_type": "markdown",
   "metadata": {},
   "source": [
    "Selecting London-Wide data only"
   ]
  },
  {
   "cell_type": "code",
   "execution_count": 25,
   "metadata": {},
   "outputs": [],
   "source": [
    "pop = pop[pop['borough'] == 'Greater London']"
   ]
  },
  {
   "cell_type": "code",
   "execution_count": 26,
   "metadata": {},
   "outputs": [
    {
     "data": {
      "text/html": [
       "<div>\n",
       "<style scoped>\n",
       "    .dataframe tbody tr th:only-of-type {\n",
       "        vertical-align: middle;\n",
       "    }\n",
       "\n",
       "    .dataframe tbody tr th {\n",
       "        vertical-align: top;\n",
       "    }\n",
       "\n",
       "    .dataframe thead th {\n",
       "        text-align: right;\n",
       "    }\n",
       "</style>\n",
       "<table border=\"1\" class=\"dataframe\">\n",
       "  <thead>\n",
       "    <tr style=\"text-align: right;\">\n",
       "      <th></th>\n",
       "      <th>gss_code</th>\n",
       "      <th>borough</th>\n",
       "      <th>sex</th>\n",
       "      <th>age</th>\n",
       "      <th>ethnic_group</th>\n",
       "      <th>2011</th>\n",
       "      <th>2012</th>\n",
       "      <th>2013</th>\n",
       "      <th>2014</th>\n",
       "      <th>2015</th>\n",
       "      <th>...</th>\n",
       "      <th>2041</th>\n",
       "      <th>2042</th>\n",
       "      <th>2043</th>\n",
       "      <th>2044</th>\n",
       "      <th>2045</th>\n",
       "      <th>2046</th>\n",
       "      <th>2047</th>\n",
       "      <th>2048</th>\n",
       "      <th>2049</th>\n",
       "      <th>2050</th>\n",
       "    </tr>\n",
       "  </thead>\n",
       "  <tbody>\n",
       "    <tr>\n",
       "      <th>61272</th>\n",
       "      <td>E12000007</td>\n",
       "      <td>Greater London</td>\n",
       "      <td>Persons</td>\n",
       "      <td>0</td>\n",
       "      <td>white</td>\n",
       "      <td>48001</td>\n",
       "      <td>45312</td>\n",
       "      <td>42990</td>\n",
       "      <td>41396</td>\n",
       "      <td>40979</td>\n",
       "      <td>...</td>\n",
       "      <td>40401</td>\n",
       "      <td>40610</td>\n",
       "      <td>40792</td>\n",
       "      <td>40933</td>\n",
       "      <td>41038</td>\n",
       "      <td>41115</td>\n",
       "      <td>41168</td>\n",
       "      <td>41199</td>\n",
       "      <td>41212</td>\n",
       "      <td>41214</td>\n",
       "    </tr>\n",
       "    <tr>\n",
       "      <th>61273</th>\n",
       "      <td>E12000007</td>\n",
       "      <td>Greater London</td>\n",
       "      <td>Persons</td>\n",
       "      <td>1</td>\n",
       "      <td>white</td>\n",
       "      <td>45154</td>\n",
       "      <td>46019</td>\n",
       "      <td>43614</td>\n",
       "      <td>41333</td>\n",
       "      <td>39727</td>\n",
       "      <td>...</td>\n",
       "      <td>38608</td>\n",
       "      <td>38813</td>\n",
       "      <td>39012</td>\n",
       "      <td>39184</td>\n",
       "      <td>39318</td>\n",
       "      <td>39418</td>\n",
       "      <td>39490</td>\n",
       "      <td>39540</td>\n",
       "      <td>39570</td>\n",
       "      <td>39583</td>\n",
       "    </tr>\n",
       "    <tr>\n",
       "      <th>61274</th>\n",
       "      <td>E12000007</td>\n",
       "      <td>Greater London</td>\n",
       "      <td>Persons</td>\n",
       "      <td>2</td>\n",
       "      <td>white</td>\n",
       "      <td>42285</td>\n",
       "      <td>43236</td>\n",
       "      <td>44177</td>\n",
       "      <td>42030</td>\n",
       "      <td>39755</td>\n",
       "      <td>...</td>\n",
       "      <td>36987</td>\n",
       "      <td>37186</td>\n",
       "      <td>37382</td>\n",
       "      <td>37570</td>\n",
       "      <td>37734</td>\n",
       "      <td>37862</td>\n",
       "      <td>37956</td>\n",
       "      <td>38026</td>\n",
       "      <td>38074</td>\n",
       "      <td>38102</td>\n",
       "    </tr>\n",
       "    <tr>\n",
       "      <th>61275</th>\n",
       "      <td>E12000007</td>\n",
       "      <td>Greater London</td>\n",
       "      <td>Persons</td>\n",
       "      <td>3</td>\n",
       "      <td>white</td>\n",
       "      <td>40916</td>\n",
       "      <td>40638</td>\n",
       "      <td>41690</td>\n",
       "      <td>42629</td>\n",
       "      <td>40497</td>\n",
       "      <td>...</td>\n",
       "      <td>35622</td>\n",
       "      <td>35802</td>\n",
       "      <td>35993</td>\n",
       "      <td>36181</td>\n",
       "      <td>36361</td>\n",
       "      <td>36517</td>\n",
       "      <td>36639</td>\n",
       "      <td>36730</td>\n",
       "      <td>36797</td>\n",
       "      <td>36843</td>\n",
       "    </tr>\n",
       "    <tr>\n",
       "      <th>61276</th>\n",
       "      <td>E12000007</td>\n",
       "      <td>Greater London</td>\n",
       "      <td>Persons</td>\n",
       "      <td>4</td>\n",
       "      <td>white</td>\n",
       "      <td>38748</td>\n",
       "      <td>39506</td>\n",
       "      <td>39318</td>\n",
       "      <td>40321</td>\n",
       "      <td>41153</td>\n",
       "      <td>...</td>\n",
       "      <td>34505</td>\n",
       "      <td>34663</td>\n",
       "      <td>34838</td>\n",
       "      <td>35022</td>\n",
       "      <td>35203</td>\n",
       "      <td>35376</td>\n",
       "      <td>35526</td>\n",
       "      <td>35644</td>\n",
       "      <td>35732</td>\n",
       "      <td>35796</td>\n",
       "    </tr>\n",
       "  </tbody>\n",
       "</table>\n",
       "<p>5 rows × 45 columns</p>\n",
       "</div>"
      ],
      "text/plain": [
       "        gss_code         borough      sex age ethnic_group   2011   2012  \\\n",
       "61272  E12000007  Greater London  Persons   0        white  48001  45312   \n",
       "61273  E12000007  Greater London  Persons   1        white  45154  46019   \n",
       "61274  E12000007  Greater London  Persons   2        white  42285  43236   \n",
       "61275  E12000007  Greater London  Persons   3        white  40916  40638   \n",
       "61276  E12000007  Greater London  Persons   4        white  38748  39506   \n",
       "\n",
       "        2013   2014   2015  ...   2041   2042   2043   2044   2045   2046  \\\n",
       "61272  42990  41396  40979  ...  40401  40610  40792  40933  41038  41115   \n",
       "61273  43614  41333  39727  ...  38608  38813  39012  39184  39318  39418   \n",
       "61274  44177  42030  39755  ...  36987  37186  37382  37570  37734  37862   \n",
       "61275  41690  42629  40497  ...  35622  35802  35993  36181  36361  36517   \n",
       "61276  39318  40321  41153  ...  34505  34663  34838  35022  35203  35376   \n",
       "\n",
       "        2047   2048   2049   2050  \n",
       "61272  41168  41199  41212  41214  \n",
       "61273  39490  39540  39570  39583  \n",
       "61274  37956  38026  38074  38102  \n",
       "61275  36639  36730  36797  36843  \n",
       "61276  35526  35644  35732  35796  \n",
       "\n",
       "[5 rows x 45 columns]"
      ]
     },
     "execution_count": 26,
     "metadata": {},
     "output_type": "execute_result"
    }
   ],
   "source": [
    "pop.head()"
   ]
  },
  {
   "cell_type": "code",
   "execution_count": 27,
   "metadata": {},
   "outputs": [
    {
     "data": {
      "text/html": [
       "<div>\n",
       "<style scoped>\n",
       "    .dataframe tbody tr th:only-of-type {\n",
       "        vertical-align: middle;\n",
       "    }\n",
       "\n",
       "    .dataframe tbody tr th {\n",
       "        vertical-align: top;\n",
       "    }\n",
       "\n",
       "    .dataframe thead th {\n",
       "        text-align: right;\n",
       "    }\n",
       "</style>\n",
       "<table border=\"1\" class=\"dataframe\">\n",
       "  <thead>\n",
       "    <tr style=\"text-align: right;\">\n",
       "      <th></th>\n",
       "      <th>age</th>\n",
       "      <th>ethnic_group</th>\n",
       "      <th>2020</th>\n",
       "    </tr>\n",
       "  </thead>\n",
       "  <tbody>\n",
       "    <tr>\n",
       "      <th>61272</th>\n",
       "      <td>0</td>\n",
       "      <td>white</td>\n",
       "      <td>39899</td>\n",
       "    </tr>\n",
       "    <tr>\n",
       "      <th>61273</th>\n",
       "      <td>1</td>\n",
       "      <td>white</td>\n",
       "      <td>38380</td>\n",
       "    </tr>\n",
       "    <tr>\n",
       "      <th>61274</th>\n",
       "      <td>2</td>\n",
       "      <td>white</td>\n",
       "      <td>36978</td>\n",
       "    </tr>\n",
       "    <tr>\n",
       "      <th>61275</th>\n",
       "      <td>3</td>\n",
       "      <td>white</td>\n",
       "      <td>35753</td>\n",
       "    </tr>\n",
       "    <tr>\n",
       "      <th>61276</th>\n",
       "      <td>4</td>\n",
       "      <td>white</td>\n",
       "      <td>35179</td>\n",
       "    </tr>\n",
       "  </tbody>\n",
       "</table>\n",
       "</div>"
      ],
      "text/plain": [
       "      age ethnic_group   2020\n",
       "61272   0        white  39899\n",
       "61273   1        white  38380\n",
       "61274   2        white  36978\n",
       "61275   3        white  35753\n",
       "61276   4        white  35179"
      ]
     },
     "execution_count": 27,
     "metadata": {},
     "output_type": "execute_result"
    }
   ],
   "source": [
    "pop = pop.iloc[:,[3,4,14]]\n",
    "pop.head()"
   ]
  },
  {
   "cell_type": "code",
   "execution_count": 28,
   "metadata": {},
   "outputs": [],
   "source": [
    "pop = pop[pop['age'] != 'All ages']"
   ]
  },
  {
   "cell_type": "code",
   "execution_count": 29,
   "metadata": {},
   "outputs": [],
   "source": [
    "pop['age'] = pop['age'].astype(int)"
   ]
  },
  {
   "cell_type": "code",
   "execution_count": 30,
   "metadata": {},
   "outputs": [
    {
     "name": "stderr",
     "output_type": "stream",
     "text": [
      "<ipython-input-30-618989fc42de>:1: SettingWithCopyWarning: \n",
      "A value is trying to be set on a copy of a slice from a DataFrame\n",
      "\n",
      "See the caveats in the documentation: https://pandas.pydata.org/pandas-docs/stable/user_guide/indexing.html#returning-a-view-versus-a-copy\n",
      "  pop['age'][pop['age']<10] = 'under 10'\n"
     ]
    }
   ],
   "source": [
    "pop['age'][pop['age']<10] = 'under 10'"
   ]
  },
  {
   "cell_type": "code",
   "execution_count": 36,
   "metadata": {},
   "outputs": [
    {
     "name": "stderr",
     "output_type": "stream",
     "text": [
      "<ipython-input-36-99881fe5a574>:1: SettingWithCopyWarning: \n",
      "A value is trying to be set on a copy of a slice from a DataFrame\n",
      "\n",
      "See the caveats in the documentation: https://pandas.pydata.org/pandas-docs/stable/user_guide/indexing.html#returning-a-view-versus-a-copy\n",
      "  pop['age'][(pop['age']== 10) |(pop['age']==  11) |(pop['age']==  12 )|(pop['age']==  13) |(pop['age']==  14) |(pop['age']== 15) |(pop['age']== 16) |(pop['age']== 17)] = '10-17'\n"
     ]
    }
   ],
   "source": [
    "pop['age'][(pop['age']== 10) |(pop['age']==  11) |(pop['age']==  12 )|(pop['age']==  13) |(pop['age']==  14) |(pop['age']== 15) |(pop['age']== 16) |(pop['age']== 17)] = '10-17'"
   ]
  },
  {
   "cell_type": "code",
   "execution_count": 38,
   "metadata": {},
   "outputs": [
    {
     "name": "stderr",
     "output_type": "stream",
     "text": [
      "<ipython-input-38-5786288cd566>:1: SettingWithCopyWarning: \n",
      "A value is trying to be set on a copy of a slice from a DataFrame\n",
      "\n",
      "See the caveats in the documentation: https://pandas.pydata.org/pandas-docs/stable/user_guide/indexing.html#returning-a-view-versus-a-copy\n",
      "  pop['age'][(pop['age']== 18) |(pop['age']==  19) |(pop['age']==  20) |(pop['age']==  21) |(pop['age']==  22) |(pop['age']== 23) |(pop['age']== 24) ] = '18-24'\n"
     ]
    }
   ],
   "source": [
    "pop['age'][(pop['age']== 18) |(pop['age']==  19) |(pop['age']==  20) |(pop['age']==  21) |(pop['age']==  22) |(pop['age']== 23) |(pop['age']== 24) ] = '18-24'"
   ]
  },
  {
   "cell_type": "code",
   "execution_count": 39,
   "metadata": {},
   "outputs": [
    {
     "name": "stderr",
     "output_type": "stream",
     "text": [
      "<ipython-input-39-1c2d61e8979a>:1: SettingWithCopyWarning: \n",
      "A value is trying to be set on a copy of a slice from a DataFrame\n",
      "\n",
      "See the caveats in the documentation: https://pandas.pydata.org/pandas-docs/stable/user_guide/indexing.html#returning-a-view-versus-a-copy\n",
      "  pop['age'][(pop['age']== 25) | (pop['age']== 26) |(pop['age']==  27) | (pop['age']== 28 )|(pop['age']== 29) |(pop['age']== 30) | (pop['age']== 31) |(pop['age']== 32) |(pop['age']== 33) |(pop['age']== 34)] = '25-34'\n"
     ]
    }
   ],
   "source": [
    "pop['age'][(pop['age']== 25) | (pop['age']== 26) |(pop['age']==  27) | (pop['age']== 28 )|(pop['age']== 29) |(pop['age']== 30) | (pop['age']== 31) |(pop['age']== 32) |(pop['age']== 33) |(pop['age']== 34)] = '25-34'"
   ]
  },
  {
   "cell_type": "code",
   "execution_count": 40,
   "metadata": {},
   "outputs": [
    {
     "data": {
      "text/plain": [
       "array(['under 10', '10-17', '18-24', '25-34', 35, 36, 37, 38, 39, 40, 41,\n",
       "       42, 43, 44, 45, 46, 47, 48, 49, 50, 51, 52, 53, 54, 55, 56, 57, 58,\n",
       "       59, 60, 61, 62, 64, 65, 66, 67, 68, 69, 70, 71, 72, 73, 74, 75, 76,\n",
       "       77, 78, 79, 80, 81, 82, 83, 84, 85, 86, 87, 88, 89, 90],\n",
       "      dtype=object)"
      ]
     },
     "execution_count": 40,
     "metadata": {},
     "output_type": "execute_result"
    }
   ],
   "source": [
    "pop['age'].unique()"
   ]
  },
  {
   "cell_type": "code",
   "execution_count": 41,
   "metadata": {},
   "outputs": [
    {
     "name": "stderr",
     "output_type": "stream",
     "text": [
      "<ipython-input-41-9b77e637f8fd>:1: SettingWithCopyWarning: \n",
      "A value is trying to be set on a copy of a slice from a DataFrame\n",
      "\n",
      "See the caveats in the documentation: https://pandas.pydata.org/pandas-docs/stable/user_guide/indexing.html#returning-a-view-versus-a-copy\n",
      "  pop['age'][(pop['age']!= 'under 10') & (pop['age']!= '10-17') & (pop['age']!= '18-24') & (pop['age']!= '25-34')] = 'over 34'\n"
     ]
    }
   ],
   "source": [
    "pop['age'][(pop['age']!= 'under 10') & (pop['age']!= '10-17') & (pop['age']!= '18-24') & (pop['age']!= '25-34')] = 'over 34'"
   ]
  },
  {
   "cell_type": "code",
   "execution_count": 44,
   "metadata": {},
   "outputs": [],
   "source": [
    "g_pop = pop.groupby(['ethnic_group', 'age']).sum()"
   ]
  },
  {
   "cell_type": "code",
   "execution_count": 45,
   "metadata": {},
   "outputs": [
    {
     "data": {
      "text/html": [
       "<div>\n",
       "<style scoped>\n",
       "    .dataframe tbody tr th:only-of-type {\n",
       "        vertical-align: middle;\n",
       "    }\n",
       "\n",
       "    .dataframe tbody tr th {\n",
       "        vertical-align: top;\n",
       "    }\n",
       "\n",
       "    .dataframe thead th {\n",
       "        text-align: right;\n",
       "    }\n",
       "</style>\n",
       "<table border=\"1\" class=\"dataframe\">\n",
       "  <thead>\n",
       "    <tr style=\"text-align: right;\">\n",
       "      <th></th>\n",
       "      <th></th>\n",
       "      <th>2020</th>\n",
       "    </tr>\n",
       "    <tr>\n",
       "      <th>ethnic_group</th>\n",
       "      <th>age</th>\n",
       "      <th></th>\n",
       "    </tr>\n",
       "  </thead>\n",
       "  <tbody>\n",
       "    <tr>\n",
       "      <th rowspan=\"5\" valign=\"top\">asian</th>\n",
       "      <th>10-17</th>\n",
       "      <td>228982</td>\n",
       "    </tr>\n",
       "    <tr>\n",
       "      <th>18-24</th>\n",
       "      <td>173392</td>\n",
       "    </tr>\n",
       "    <tr>\n",
       "      <th>25-34</th>\n",
       "      <td>349792</td>\n",
       "    </tr>\n",
       "    <tr>\n",
       "      <th>over 34</th>\n",
       "      <td>886785</td>\n",
       "    </tr>\n",
       "    <tr>\n",
       "      <th>under 10</th>\n",
       "      <td>263267</td>\n",
       "    </tr>\n",
       "    <tr>\n",
       "      <th rowspan=\"5\" valign=\"top\">black</th>\n",
       "      <th>10-17</th>\n",
       "      <td>182367</td>\n",
       "    </tr>\n",
       "    <tr>\n",
       "      <th>18-24</th>\n",
       "      <td>100134</td>\n",
       "    </tr>\n",
       "    <tr>\n",
       "      <th>25-34</th>\n",
       "      <td>155538</td>\n",
       "    </tr>\n",
       "    <tr>\n",
       "      <th>over 34</th>\n",
       "      <td>584635</td>\n",
       "    </tr>\n",
       "    <tr>\n",
       "      <th>under 10</th>\n",
       "      <td>215773</td>\n",
       "    </tr>\n",
       "    <tr>\n",
       "      <th rowspan=\"5\" valign=\"top\">other</th>\n",
       "      <th>10-17</th>\n",
       "      <td>46297</td>\n",
       "    </tr>\n",
       "    <tr>\n",
       "      <th>18-24</th>\n",
       "      <td>32746</td>\n",
       "    </tr>\n",
       "    <tr>\n",
       "      <th>25-34</th>\n",
       "      <td>63407</td>\n",
       "    </tr>\n",
       "    <tr>\n",
       "      <th>over 34</th>\n",
       "      <td>166838</td>\n",
       "    </tr>\n",
       "    <tr>\n",
       "      <th>under 10</th>\n",
       "      <td>64936</td>\n",
       "    </tr>\n",
       "    <tr>\n",
       "      <th rowspan=\"5\" valign=\"top\">white</th>\n",
       "      <th>10-17</th>\n",
       "      <td>472884</td>\n",
       "    </tr>\n",
       "    <tr>\n",
       "      <th>18-24</th>\n",
       "      <td>408853</td>\n",
       "    </tr>\n",
       "    <tr>\n",
       "      <th>25-34</th>\n",
       "      <td>937227</td>\n",
       "    </tr>\n",
       "    <tr>\n",
       "      <th>over 34</th>\n",
       "      <td>2815113</td>\n",
       "    </tr>\n",
       "    <tr>\n",
       "      <th>under 10</th>\n",
       "      <td>523414</td>\n",
       "    </tr>\n",
       "  </tbody>\n",
       "</table>\n",
       "</div>"
      ],
      "text/plain": [
       "                          2020\n",
       "ethnic_group age              \n",
       "asian        10-17      228982\n",
       "             18-24      173392\n",
       "             25-34      349792\n",
       "             over 34    886785\n",
       "             under 10   263267\n",
       "black        10-17      182367\n",
       "             18-24      100134\n",
       "             25-34      155538\n",
       "             over 34    584635\n",
       "             under 10   215773\n",
       "other        10-17       46297\n",
       "             18-24       32746\n",
       "             25-34       63407\n",
       "             over 34    166838\n",
       "             under 10    64936\n",
       "white        10-17      472884\n",
       "             18-24      408853\n",
       "             25-34      937227\n",
       "             over 34   2815113\n",
       "             under 10   523414"
      ]
     },
     "execution_count": 45,
     "metadata": {},
     "output_type": "execute_result"
    }
   ],
   "source": [
    "g_pop.head(50)"
   ]
  },
  {
   "cell_type": "code",
   "execution_count": 46,
   "metadata": {},
   "outputs": [
    {
     "data": {
      "text/html": [
       "<div>\n",
       "<style scoped>\n",
       "    .dataframe tbody tr th:only-of-type {\n",
       "        vertical-align: middle;\n",
       "    }\n",
       "\n",
       "    .dataframe tbody tr th {\n",
       "        vertical-align: top;\n",
       "    }\n",
       "\n",
       "    .dataframe thead th {\n",
       "        text-align: right;\n",
       "    }\n",
       "</style>\n",
       "<table border=\"1\" class=\"dataframe\">\n",
       "  <thead>\n",
       "    <tr style=\"text-align: right;\">\n",
       "      <th></th>\n",
       "      <th></th>\n",
       "      <th>count</th>\n",
       "    </tr>\n",
       "    <tr>\n",
       "      <th>Officer-defined ethnicity</th>\n",
       "      <th>Age range</th>\n",
       "      <th></th>\n",
       "    </tr>\n",
       "  </thead>\n",
       "  <tbody>\n",
       "    <tr>\n",
       "      <th rowspan=\"5\" valign=\"top\">Asian</th>\n",
       "      <th>10-17</th>\n",
       "      <td>6244</td>\n",
       "    </tr>\n",
       "    <tr>\n",
       "      <th>18-24</th>\n",
       "      <td>23927</td>\n",
       "    </tr>\n",
       "    <tr>\n",
       "      <th>25-34</th>\n",
       "      <td>13421</td>\n",
       "    </tr>\n",
       "    <tr>\n",
       "      <th>over 34</th>\n",
       "      <td>6386</td>\n",
       "    </tr>\n",
       "    <tr>\n",
       "      <th>under 10</th>\n",
       "      <td>15</td>\n",
       "    </tr>\n",
       "    <tr>\n",
       "      <th rowspan=\"5\" valign=\"top\">Black</th>\n",
       "      <th>10-17</th>\n",
       "      <td>21554</td>\n",
       "    </tr>\n",
       "    <tr>\n",
       "      <th>18-24</th>\n",
       "      <td>41788</td>\n",
       "    </tr>\n",
       "    <tr>\n",
       "      <th>25-34</th>\n",
       "      <td>22899</td>\n",
       "    </tr>\n",
       "    <tr>\n",
       "      <th>over 34</th>\n",
       "      <td>14819</td>\n",
       "    </tr>\n",
       "    <tr>\n",
       "      <th>under 10</th>\n",
       "      <td>18</td>\n",
       "    </tr>\n",
       "    <tr>\n",
       "      <th rowspan=\"5\" valign=\"top\">Other</th>\n",
       "      <th>10-17</th>\n",
       "      <td>2161</td>\n",
       "    </tr>\n",
       "    <tr>\n",
       "      <th>18-24</th>\n",
       "      <td>6223</td>\n",
       "    </tr>\n",
       "    <tr>\n",
       "      <th>25-34</th>\n",
       "      <td>3215</td>\n",
       "    </tr>\n",
       "    <tr>\n",
       "      <th>over 34</th>\n",
       "      <td>1483</td>\n",
       "    </tr>\n",
       "    <tr>\n",
       "      <th>under 10</th>\n",
       "      <td>9</td>\n",
       "    </tr>\n",
       "    <tr>\n",
       "      <th rowspan=\"5\" valign=\"top\">White</th>\n",
       "      <th>10-17</th>\n",
       "      <td>19079</td>\n",
       "    </tr>\n",
       "    <tr>\n",
       "      <th>18-24</th>\n",
       "      <td>36382</td>\n",
       "    </tr>\n",
       "    <tr>\n",
       "      <th>25-34</th>\n",
       "      <td>29642</td>\n",
       "    </tr>\n",
       "    <tr>\n",
       "      <th>over 34</th>\n",
       "      <td>27555</td>\n",
       "    </tr>\n",
       "    <tr>\n",
       "      <th>under 10</th>\n",
       "      <td>26</td>\n",
       "    </tr>\n",
       "  </tbody>\n",
       "</table>\n",
       "</div>"
      ],
      "text/plain": [
       "                                     count\n",
       "Officer-defined ethnicity Age range       \n",
       "Asian                     10-17       6244\n",
       "                          18-24      23927\n",
       "                          25-34      13421\n",
       "                          over 34     6386\n",
       "                          under 10      15\n",
       "Black                     10-17      21554\n",
       "                          18-24      41788\n",
       "                          25-34      22899\n",
       "                          over 34    14819\n",
       "                          under 10      18\n",
       "Other                     10-17       2161\n",
       "                          18-24       6223\n",
       "                          25-34       3215\n",
       "                          over 34     1483\n",
       "                          under 10       9\n",
       "White                     10-17      19079\n",
       "                          18-24      36382\n",
       "                          25-34      29642\n",
       "                          over 34    27555\n",
       "                          under 10      26"
      ]
     },
     "execution_count": 46,
     "metadata": {},
     "output_type": "execute_result"
    }
   ],
   "source": [
    "race_age_sum.head(50)"
   ]
  },
  {
   "cell_type": "code",
   "execution_count": null,
   "metadata": {},
   "outputs": [],
   "source": []
  }
 ],
 "metadata": {
  "kernelspec": {
   "display_name": "Python 3",
   "language": "python",
   "name": "python3"
  },
  "language_info": {
   "codemirror_mode": {
    "name": "ipython",
    "version": 3
   },
   "file_extension": ".py",
   "mimetype": "text/x-python",
   "name": "python",
   "nbconvert_exporter": "python",
   "pygments_lexer": "ipython3",
   "version": "3.8.5"
  }
 },
 "nbformat": 4,
 "nbformat_minor": 4
}
